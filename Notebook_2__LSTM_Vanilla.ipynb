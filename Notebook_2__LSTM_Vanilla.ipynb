{
  "nbformat": 4,
  "nbformat_minor": 0,
  "metadata": {
    "colab": {
      "name": "Notebook_2__LSTM_Vanilla.ipynb",
      "provenance": [],
      "collapsed_sections": []
    },
    "kernelspec": {
      "name": "python3",
      "display_name": "Python 3"
    },
    "accelerator": "GPU"
  },
  "cells": [
    {
      "cell_type": "code",
      "metadata": {
        "id": "2zUjhYQHfTmA"
      },
      "source": [
        "#importing packages and libraries\n",
        "from keras.layers.core import Dense, Activation, Dropout\n",
        "from keras.layers.recurrent import LSTM\n",
        "from keras.models import Sequential\n",
        "import time #helper libraries\n",
        "\n",
        "import numpy as np"
      ],
      "execution_count": 3,
      "outputs": []
    },
    {
      "cell_type": "markdown",
      "metadata": {
        "id": "UJ0jimOSaLx0"
      },
      "source": [
        "**Trying to predict stock price movements by giving in stock price movements instead of just simple stock prices as input**\n",
        "\n",
        "\n",
        "**In this notebook we normalized only the closing prices and then broke it into train and test datasets. Keeping simple lookback window to give all similar data same movement(movement is just giving the data points the same kind of normalization) and put them in price points as input**\n",
        "\n"
      ]
    },
    {
      "cell_type": "code",
      "metadata": {
        "id": "hyxINN1tNEqW"
      },
      "source": [
        "import pandas as pd \n",
        "df3 = pd.read_csv('AMZN.csv')\n"
      ],
      "execution_count": 4,
      "outputs": []
    },
    {
      "cell_type": "code",
      "metadata": {
        "id": "OtRzd9-IOB8L"
      },
      "source": [
        "df3 = df3.dropna(axis = \"columns\")"
      ],
      "execution_count": 5,
      "outputs": []
    },
    {
      "cell_type": "code",
      "metadata": {
        "id": "77Me2RVdPMy6",
        "outputId": "424c0ed6-3a5f-4e4d-96ff-313bc71c291a",
        "colab": {
          "base_uri": "https://localhost:8080/",
          "height": 206
        }
      },
      "source": [
        "df3.head()"
      ],
      "execution_count": 6,
      "outputs": [
        {
          "output_type": "execute_result",
          "data": {
            "text/plain": [
              "       Date        Open        High         Low   Adj Close    Volume  \\\n",
              "0  1/4/2010  136.250000  136.610001  133.139999  133.899994   7599900   \n",
              "1  1/5/2010  133.429993  135.479996  131.809998  134.690002   8851900   \n",
              "2  1/6/2010  134.600006  134.729996  131.649994  132.250000   7178800   \n",
              "3  1/7/2010  132.009995  132.320007  128.800003  130.000000  11030200   \n",
              "4  1/8/2010  130.559998  133.679993  129.029999  133.520004   9830500   \n",
              "\n",
              "        Close  \n",
              "0  133.899994  \n",
              "1  134.690002  \n",
              "2  132.250000  \n",
              "3  130.000000  \n",
              "4  133.520004  "
            ],
            "text/html": [
              "\n",
              "  <div id=\"df-ecec823f-c399-4642-a531-e0a7425ae824\">\n",
              "    <div class=\"colab-df-container\">\n",
              "      <div>\n",
              "<style scoped>\n",
              "    .dataframe tbody tr th:only-of-type {\n",
              "        vertical-align: middle;\n",
              "    }\n",
              "\n",
              "    .dataframe tbody tr th {\n",
              "        vertical-align: top;\n",
              "    }\n",
              "\n",
              "    .dataframe thead th {\n",
              "        text-align: right;\n",
              "    }\n",
              "</style>\n",
              "<table border=\"1\" class=\"dataframe\">\n",
              "  <thead>\n",
              "    <tr style=\"text-align: right;\">\n",
              "      <th></th>\n",
              "      <th>Date</th>\n",
              "      <th>Open</th>\n",
              "      <th>High</th>\n",
              "      <th>Low</th>\n",
              "      <th>Adj Close</th>\n",
              "      <th>Volume</th>\n",
              "      <th>Close</th>\n",
              "    </tr>\n",
              "  </thead>\n",
              "  <tbody>\n",
              "    <tr>\n",
              "      <th>0</th>\n",
              "      <td>1/4/2010</td>\n",
              "      <td>136.250000</td>\n",
              "      <td>136.610001</td>\n",
              "      <td>133.139999</td>\n",
              "      <td>133.899994</td>\n",
              "      <td>7599900</td>\n",
              "      <td>133.899994</td>\n",
              "    </tr>\n",
              "    <tr>\n",
              "      <th>1</th>\n",
              "      <td>1/5/2010</td>\n",
              "      <td>133.429993</td>\n",
              "      <td>135.479996</td>\n",
              "      <td>131.809998</td>\n",
              "      <td>134.690002</td>\n",
              "      <td>8851900</td>\n",
              "      <td>134.690002</td>\n",
              "    </tr>\n",
              "    <tr>\n",
              "      <th>2</th>\n",
              "      <td>1/6/2010</td>\n",
              "      <td>134.600006</td>\n",
              "      <td>134.729996</td>\n",
              "      <td>131.649994</td>\n",
              "      <td>132.250000</td>\n",
              "      <td>7178800</td>\n",
              "      <td>132.250000</td>\n",
              "    </tr>\n",
              "    <tr>\n",
              "      <th>3</th>\n",
              "      <td>1/7/2010</td>\n",
              "      <td>132.009995</td>\n",
              "      <td>132.320007</td>\n",
              "      <td>128.800003</td>\n",
              "      <td>130.000000</td>\n",
              "      <td>11030200</td>\n",
              "      <td>130.000000</td>\n",
              "    </tr>\n",
              "    <tr>\n",
              "      <th>4</th>\n",
              "      <td>1/8/2010</td>\n",
              "      <td>130.559998</td>\n",
              "      <td>133.679993</td>\n",
              "      <td>129.029999</td>\n",
              "      <td>133.520004</td>\n",
              "      <td>9830500</td>\n",
              "      <td>133.520004</td>\n",
              "    </tr>\n",
              "  </tbody>\n",
              "</table>\n",
              "</div>\n",
              "      <button class=\"colab-df-convert\" onclick=\"convertToInteractive('df-ecec823f-c399-4642-a531-e0a7425ae824')\"\n",
              "              title=\"Convert this dataframe to an interactive table.\"\n",
              "              style=\"display:none;\">\n",
              "        \n",
              "  <svg xmlns=\"http://www.w3.org/2000/svg\" height=\"24px\"viewBox=\"0 0 24 24\"\n",
              "       width=\"24px\">\n",
              "    <path d=\"M0 0h24v24H0V0z\" fill=\"none\"/>\n",
              "    <path d=\"M18.56 5.44l.94 2.06.94-2.06 2.06-.94-2.06-.94-.94-2.06-.94 2.06-2.06.94zm-11 1L8.5 8.5l.94-2.06 2.06-.94-2.06-.94L8.5 2.5l-.94 2.06-2.06.94zm10 10l.94 2.06.94-2.06 2.06-.94-2.06-.94-.94-2.06-.94 2.06-2.06.94z\"/><path d=\"M17.41 7.96l-1.37-1.37c-.4-.4-.92-.59-1.43-.59-.52 0-1.04.2-1.43.59L10.3 9.45l-7.72 7.72c-.78.78-.78 2.05 0 2.83L4 21.41c.39.39.9.59 1.41.59.51 0 1.02-.2 1.41-.59l7.78-7.78 2.81-2.81c.8-.78.8-2.07 0-2.86zM5.41 20L4 18.59l7.72-7.72 1.47 1.35L5.41 20z\"/>\n",
              "  </svg>\n",
              "      </button>\n",
              "      \n",
              "  <style>\n",
              "    .colab-df-container {\n",
              "      display:flex;\n",
              "      flex-wrap:wrap;\n",
              "      gap: 12px;\n",
              "    }\n",
              "\n",
              "    .colab-df-convert {\n",
              "      background-color: #E8F0FE;\n",
              "      border: none;\n",
              "      border-radius: 50%;\n",
              "      cursor: pointer;\n",
              "      display: none;\n",
              "      fill: #1967D2;\n",
              "      height: 32px;\n",
              "      padding: 0 0 0 0;\n",
              "      width: 32px;\n",
              "    }\n",
              "\n",
              "    .colab-df-convert:hover {\n",
              "      background-color: #E2EBFA;\n",
              "      box-shadow: 0px 1px 2px rgba(60, 64, 67, 0.3), 0px 1px 3px 1px rgba(60, 64, 67, 0.15);\n",
              "      fill: #174EA6;\n",
              "    }\n",
              "\n",
              "    [theme=dark] .colab-df-convert {\n",
              "      background-color: #3B4455;\n",
              "      fill: #D2E3FC;\n",
              "    }\n",
              "\n",
              "    [theme=dark] .colab-df-convert:hover {\n",
              "      background-color: #434B5C;\n",
              "      box-shadow: 0px 1px 3px 1px rgba(0, 0, 0, 0.15);\n",
              "      filter: drop-shadow(0px 1px 2px rgba(0, 0, 0, 0.3));\n",
              "      fill: #FFFFFF;\n",
              "    }\n",
              "  </style>\n",
              "\n",
              "      <script>\n",
              "        const buttonEl =\n",
              "          document.querySelector('#df-ecec823f-c399-4642-a531-e0a7425ae824 button.colab-df-convert');\n",
              "        buttonEl.style.display =\n",
              "          google.colab.kernel.accessAllowed ? 'block' : 'none';\n",
              "\n",
              "        async function convertToInteractive(key) {\n",
              "          const element = document.querySelector('#df-ecec823f-c399-4642-a531-e0a7425ae824');\n",
              "          const dataTable =\n",
              "            await google.colab.kernel.invokeFunction('convertToInteractive',\n",
              "                                                     [key], {});\n",
              "          if (!dataTable) return;\n",
              "\n",
              "          const docLinkHtml = 'Like what you see? Visit the ' +\n",
              "            '<a target=\"_blank\" href=https://colab.research.google.com/notebooks/data_table.ipynb>data table notebook</a>'\n",
              "            + ' to learn more about interactive tables.';\n",
              "          element.innerHTML = '';\n",
              "          dataTable['output_type'] = 'display_data';\n",
              "          await google.colab.output.renderOutput(dataTable, element);\n",
              "          const docLink = document.createElement('div');\n",
              "          docLink.innerHTML = docLinkHtml;\n",
              "          element.appendChild(docLink);\n",
              "        }\n",
              "      </script>\n",
              "    </div>\n",
              "  </div>\n",
              "  "
            ]
          },
          "metadata": {},
          "execution_count": 6
        }
      ]
    },
    {
      "cell_type": "markdown",
      "source": [
        " working with a conventional OHCLV dataset"
      ],
      "metadata": {
        "id": "bfjxmdNq6kdZ"
      }
    },
    {
      "cell_type": "code",
      "metadata": {
        "id": "4_eLiOTqSt1p"
      },
      "source": [
        "df_close = df3['Close']"
      ],
      "execution_count": 8,
      "outputs": []
    },
    {
      "cell_type": "code",
      "metadata": {
        "id": "CpmyiqPMS6lv",
        "outputId": "ed1c8a56-61e9-42c0-e1cc-06257f955716",
        "colab": {
          "base_uri": "https://localhost:8080/"
        }
      },
      "source": [
        "df_close.shape"
      ],
      "execution_count": 9,
      "outputs": [
        {
          "output_type": "execute_result",
          "data": {
            "text/plain": [
              "(2265,)"
            ]
          },
          "metadata": {},
          "execution_count": 9
        }
      ]
    },
    {
      "cell_type": "code",
      "metadata": {
        "id": "cFX_SbARTFbK"
      },
      "source": [
        "#Reshaping it\n",
        "df_close = df_close.values.reshape(2265,1)"
      ],
      "execution_count": 10,
      "outputs": []
    },
    {
      "cell_type": "code",
      "metadata": {
        "id": "-kd1EeAMTShd",
        "outputId": "9b1e19bf-f2cf-46ab-d9a2-fee71d5b3c67",
        "colab": {
          "base_uri": "https://localhost:8080/",
          "height": 265
        }
      },
      "source": [
        "import matplotlib.pyplot as plt\n",
        "from sklearn.preprocessing import MinMaxScaler\n",
        "\n",
        "#Ploting it\n",
        "plt.plot(df_close)\n",
        "plt.show()\n",
        "\n",
        "scaler = MinMaxScaler(feature_range=(0, 1))\n",
        "df_close = scaler.fit_transform(df_close)\n"
      ],
      "execution_count": 11,
      "outputs": [
        {
          "output_type": "display_data",
          "data": {
            "text/plain": [
              "<Figure size 432x288 with 1 Axes>"
            ],
            "image/png": "[encoded data removed]"
          },
          "metadata": {
            "needs_background": "light"
          }
        }
      ]
    },
    {
      "cell_type": "code",
      "metadata": {
        "id": "Qwu51GYWUIul",
        "outputId": "9da2b68c-c334-4334-c6ce-774414aa1ede",
        "colab": {
          "base_uri": "https://localhost:8080/"
        }
      },
      "source": [
        "train_size = int(len(df_close) * 0.80)\n",
        "test_size = len(df_close) - train_size\n",
        "train, test = df_close[0:train_size,:], df_close[train_size:len(df_close),:]\n",
        "print(len(train), len(test))"
      ],
      "execution_count": 12,
      "outputs": [
        {
          "output_type": "stream",
          "name": "stdout",
          "text": [
            "1812 453\n"
          ]
        }
      ]
    },
    {
      "cell_type": "markdown",
      "metadata": {
        "id": "Gyaecf7d87tN"
      },
      "source": [
        "**Normalize the values such that prices are reduced to normalized values and I can predict stock movement instead of actual prices**"
      ]
    },
    {
      "cell_type": "code",
      "metadata": {
        "id": "Ria-4F-4V_Xn"
      },
      "source": [
        "# convert an array of values into a dataset matrix\n",
        "def create_dataset(dataset, look_back=1): #keep only similar value data if a data point is too far of the last one jump to the next value\n",
        "\tdataX, dataY = [], []       #put this in data x\n",
        "\tfor i in range(len(dataset)-look_back-1): #let dataY have only output values\n",
        "\t\ta = dataset[i:(i+look_back), 0]\n",
        "\t\tdataX.append(a)\n",
        "\t\tdataY.append(dataset[i + look_back, 0])\n",
        "\treturn np.array(dataX), np.array(dataY)"
      ],
      "execution_count": 13,
      "outputs": []
    },
    {
      "cell_type": "code",
      "metadata": {
        "id": "atRqDg15WGbV"
      },
      "source": [
        "# reshape into X=t and Y=t+1\n",
        "look_back = 1\n",
        "trainX, trainY = create_dataset(train, look_back)\n",
        "testX, testY = create_dataset(test, look_back)"
      ],
      "execution_count": 14,
      "outputs": []
    },
    {
      "cell_type": "code",
      "metadata": {
        "id": "PVeSyYXXWNlT"
      },
      "source": [
        "trainX = np.reshape(trainX, (trainX.shape[0], 1, trainX.shape[1]))\n",
        "testX = np.reshape(testX, (testX.shape[0], 1, testX.shape[1]))"
      ],
      "execution_count": 15,
      "outputs": []
    },
    {
      "cell_type": "code",
      "metadata": {
        "id": "ci3EQtyrWSgh",
        "outputId": "6c21679e-4b66-4413-9c62-f85210eeca52",
        "colab": {
          "base_uri": "https://localhost:8080/"
        }
      },
      "source": [
        "#Step 2 Build Model\n",
        "model = Sequential()\n",
        "model.add(LSTM(\n",
        "    input_dim=1,\n",
        "    return_sequences=True,units=50))\n",
        "\n",
        "\n",
        "model.add(Dropout(0.2))\n",
        "\n",
        "model.add(LSTM(\n",
        "    100,\n",
        "    return_sequences=False))\n",
        "model.add(Dropout(0.2))\n",
        "\n",
        "model.add(Dense(\n",
        "    units=1))\n",
        "model.add(Activation('relu'))\n",
        "\n",
        "start = time.time()\n",
        "model.compile(loss='mse', optimizer='rmsprop', metrics=['mae'])\n",
        "print ('compilation time : ', time.time() - start)"
      ],
      "execution_count": 16,
      "outputs": [
        {
          "output_type": "stream",
          "name": "stdout",
          "text": [
            "compilation time :  0.005909442901611328\n"
          ]
        }
      ]
    },
    {
      "cell_type": "code",
      "metadata": {
        "id": "tzikjpoYWXKw",
        "outputId": "97c9b2f3-e154-49be-b077-b0df5ef38dde",
        "colab": {
          "base_uri": "https://localhost:8080/"
        }
      },
      "source": [
        "model.fit(\n",
        "    trainX,\n",
        "    trainY,\n",
        "    batch_size=128,\n",
        "    epochs=100,\n",
        "    validation_split=0.05)"
      ],
      "execution_count": 17,
      "outputs": [
        {
          "output_type": "stream",
          "name": "stdout",
          "text": [
            "Epoch 1/100\n",
            "14/14 [==============================] - 15s 54ms/step - loss: 0.0117 - mae: 0.0749 - val_loss: 0.0504 - val_mae: 0.2238\n",
            "Epoch 2/100\n",
            "14/14 [==============================] - 0s 20ms/step - loss: 0.0062 - mae: 0.0614 - val_loss: 0.0355 - val_mae: 0.1878\n",
            "Epoch 3/100\n",
            "14/14 [==============================] - 0s 18ms/step - loss: 0.0048 - mae: 0.0551 - val_loss: 0.0306 - val_mae: 0.1744\n",
            "Epoch 4/100\n",
            "14/14 [==============================] - 0s 20ms/step - loss: 0.0031 - mae: 0.0439 - val_loss: 0.0142 - val_mae: 0.1186\n",
            "Epoch 5/100\n",
            "14/14 [==============================] - 0s 19ms/step - loss: 0.0015 - mae: 0.0299 - val_loss: 0.0047 - val_mae: 0.0682\n",
            "Epoch 6/100\n",
            "14/14 [==============================] - 0s 19ms/step - loss: 5.1213e-04 - mae: 0.0166 - val_loss: 6.5063e-05 - val_mae: 0.0070\n",
            "Epoch 7/100\n",
            "14/14 [==============================] - 0s 18ms/step - loss: 2.6422e-04 - mae: 0.0119 - val_loss: 3.9224e-05 - val_mae: 0.0047\n",
            "Epoch 8/100\n",
            "14/14 [==============================] - 0s 20ms/step - loss: 2.2674e-04 - mae: 0.0106 - val_loss: 7.5408e-05 - val_mae: 0.0075\n",
            "Epoch 9/100\n",
            "14/14 [==============================] - 0s 18ms/step - loss: 2.3525e-04 - mae: 0.0107 - val_loss: 1.2097e-04 - val_mae: 0.0099\n",
            "Epoch 10/100\n",
            "14/14 [==============================] - 0s 20ms/step - loss: 2.2500e-04 - mae: 0.0107 - val_loss: 1.6744e-04 - val_mae: 0.0120\n",
            "Epoch 11/100\n",
            "14/14 [==============================] - 0s 18ms/step - loss: 1.9286e-04 - mae: 0.0093 - val_loss: 5.1568e-04 - val_mae: 0.0220\n",
            "Epoch 12/100\n",
            "14/14 [==============================] - 0s 19ms/step - loss: 2.0805e-04 - mae: 0.0100 - val_loss: 1.3094e-04 - val_mae: 0.0104\n",
            "Epoch 13/100\n",
            "14/14 [==============================] - 0s 27ms/step - loss: 2.1630e-04 - mae: 0.0104 - val_loss: 2.6506e-04 - val_mae: 0.0154\n",
            "Epoch 14/100\n",
            "14/14 [==============================] - 1s 56ms/step - loss: 1.8433e-04 - mae: 0.0091 - val_loss: 5.8054e-05 - val_mae: 0.0065\n",
            "Epoch 15/100\n",
            "14/14 [==============================] - 1s 48ms/step - loss: 2.2099e-04 - mae: 0.0107 - val_loss: 2.1028e-04 - val_mae: 0.0136\n",
            "Epoch 16/100\n",
            "14/14 [==============================] - 1s 51ms/step - loss: 1.8954e-04 - mae: 0.0093 - val_loss: 9.3950e-05 - val_mae: 0.0086\n",
            "Epoch 17/100\n",
            "14/14 [==============================] - 1s 59ms/step - loss: 1.9000e-04 - mae: 0.0094 - val_loss: 7.0281e-05 - val_mae: 0.0072\n",
            "Epoch 18/100\n",
            "14/14 [==============================] - 1s 49ms/step - loss: 1.7806e-04 - mae: 0.0092 - val_loss: 1.3416e-04 - val_mae: 0.0106\n",
            "Epoch 19/100\n",
            "14/14 [==============================] - 1s 46ms/step - loss: 1.7720e-04 - mae: 0.0089 - val_loss: 2.8136e-05 - val_mae: 0.0038\n",
            "Epoch 20/100\n",
            "14/14 [==============================] - 0s 28ms/step - loss: 1.6788e-04 - mae: 0.0092 - val_loss: 5.3062e-05 - val_mae: 0.0059\n",
            "Epoch 21/100\n",
            "14/14 [==============================] - 0s 18ms/step - loss: 1.8144e-04 - mae: 0.0095 - val_loss: 3.4876e-05 - val_mae: 0.0043\n",
            "Epoch 22/100\n",
            "14/14 [==============================] - 0s 19ms/step - loss: 1.4411e-04 - mae: 0.0083 - val_loss: 2.3109e-04 - val_mae: 0.0143\n",
            "Epoch 23/100\n",
            "14/14 [==============================] - 0s 18ms/step - loss: 1.8419e-04 - mae: 0.0094 - val_loss: 2.1270e-04 - val_mae: 0.0137\n",
            "Epoch 24/100\n",
            "14/14 [==============================] - 0s 19ms/step - loss: 1.4730e-04 - mae: 0.0080 - val_loss: 4.6023e-04 - val_mae: 0.0208\n",
            "Epoch 25/100\n",
            "14/14 [==============================] - 0s 20ms/step - loss: 1.7717e-04 - mae: 0.0095 - val_loss: 7.0570e-05 - val_mae: 0.0072\n",
            "Epoch 26/100\n",
            "14/14 [==============================] - 0s 18ms/step - loss: 1.6789e-04 - mae: 0.0092 - val_loss: 1.1921e-04 - val_mae: 0.0099\n",
            "Epoch 27/100\n",
            "14/14 [==============================] - 0s 19ms/step - loss: 1.3805e-04 - mae: 0.0080 - val_loss: 4.7669e-04 - val_mae: 0.0212\n",
            "Epoch 28/100\n",
            "14/14 [==============================] - 0s 18ms/step - loss: 1.6617e-04 - mae: 0.0094 - val_loss: 2.4959e-04 - val_mae: 0.0150\n",
            "Epoch 29/100\n",
            "14/14 [==============================] - 0s 18ms/step - loss: 1.5616e-04 - mae: 0.0088 - val_loss: 2.8488e-05 - val_mae: 0.0038\n",
            "Epoch 30/100\n",
            "14/14 [==============================] - 0s 20ms/step - loss: 1.7252e-04 - mae: 0.0085 - val_loss: 4.7597e-05 - val_mae: 0.0055\n",
            "Epoch 31/100\n",
            "14/14 [==============================] - 0s 18ms/step - loss: 1.5059e-04 - mae: 0.0087 - val_loss: 3.7232e-05 - val_mae: 0.0047\n",
            "Epoch 32/100\n",
            "14/14 [==============================] - 0s 20ms/step - loss: 1.6022e-04 - mae: 0.0091 - val_loss: 1.3247e-04 - val_mae: 0.0105\n",
            "Epoch 33/100\n",
            "14/14 [==============================] - 0s 19ms/step - loss: 1.5939e-04 - mae: 0.0090 - val_loss: 1.1949e-04 - val_mae: 0.0099\n",
            "Epoch 34/100\n",
            "14/14 [==============================] - 0s 19ms/step - loss: 1.3833e-04 - mae: 0.0084 - val_loss: 1.5841e-04 - val_mae: 0.0117\n",
            "Epoch 35/100\n",
            "14/14 [==============================] - 0s 18ms/step - loss: 1.5112e-04 - mae: 0.0086 - val_loss: 2.9012e-05 - val_mae: 0.0039\n",
            "Epoch 36/100\n",
            "14/14 [==============================] - 0s 18ms/step - loss: 1.4759e-04 - mae: 0.0085 - val_loss: 1.1341e-04 - val_mae: 0.0096\n",
            "Epoch 37/100\n",
            "14/14 [==============================] - 0s 18ms/step - loss: 1.4339e-04 - mae: 0.0085 - val_loss: 1.4181e-04 - val_mae: 0.0109\n",
            "Epoch 38/100\n",
            "14/14 [==============================] - 0s 19ms/step - loss: 1.3725e-04 - mae: 0.0083 - val_loss: 8.4189e-05 - val_mae: 0.0081\n",
            "Epoch 39/100\n",
            "14/14 [==============================] - 0s 21ms/step - loss: 1.4654e-04 - mae: 0.0082 - val_loss: 5.7879e-05 - val_mae: 0.0064\n",
            "Epoch 40/100\n",
            "14/14 [==============================] - 0s 19ms/step - loss: 1.4137e-04 - mae: 0.0083 - val_loss: 2.7156e-05 - val_mae: 0.0038\n",
            "Epoch 41/100\n",
            "14/14 [==============================] - 0s 19ms/step - loss: 1.2545e-04 - mae: 0.0078 - val_loss: 1.7448e-04 - val_mae: 0.0122\n",
            "Epoch 42/100\n",
            "14/14 [==============================] - 0s 18ms/step - loss: 1.3771e-04 - mae: 0.0082 - val_loss: 2.9525e-05 - val_mae: 0.0040\n",
            "Epoch 43/100\n",
            "14/14 [==============================] - 0s 19ms/step - loss: 1.5360e-04 - mae: 0.0092 - val_loss: 3.2758e-05 - val_mae: 0.0043\n",
            "Epoch 44/100\n",
            "14/14 [==============================] - 0s 20ms/step - loss: 1.1534e-04 - mae: 0.0075 - val_loss: 3.3496e-05 - val_mae: 0.0044\n",
            "Epoch 45/100\n",
            "14/14 [==============================] - 0s 19ms/step - loss: 1.4496e-04 - mae: 0.0086 - val_loss: 1.3484e-04 - val_mae: 0.0106\n",
            "Epoch 46/100\n",
            "14/14 [==============================] - 0s 20ms/step - loss: 1.3107e-04 - mae: 0.0082 - val_loss: 3.8739e-05 - val_mae: 0.0049\n",
            "Epoch 47/100\n",
            "14/14 [==============================] - 0s 19ms/step - loss: 1.3906e-04 - mae: 0.0083 - val_loss: 3.3180e-05 - val_mae: 0.0044\n",
            "Epoch 48/100\n",
            "14/14 [==============================] - 0s 18ms/step - loss: 1.3127e-04 - mae: 0.0079 - val_loss: 3.7122e-05 - val_mae: 0.0046\n",
            "Epoch 49/100\n",
            "14/14 [==============================] - 0s 19ms/step - loss: 1.4254e-04 - mae: 0.0080 - val_loss: 7.6762e-05 - val_mae: 0.0077\n",
            "Epoch 50/100\n",
            "14/14 [==============================] - 0s 21ms/step - loss: 1.3020e-04 - mae: 0.0084 - val_loss: 8.6850e-05 - val_mae: 0.0082\n",
            "Epoch 51/100\n",
            "14/14 [==============================] - 0s 19ms/step - loss: 1.2555e-04 - mae: 0.0080 - val_loss: 8.5450e-05 - val_mae: 0.0082\n",
            "Epoch 52/100\n",
            "14/14 [==============================] - 0s 19ms/step - loss: 1.4426e-04 - mae: 0.0089 - val_loss: 4.5752e-05 - val_mae: 0.0055\n",
            "Epoch 53/100\n",
            "14/14 [==============================] - 0s 19ms/step - loss: 1.5296e-04 - mae: 0.0088 - val_loss: 5.0015e-05 - val_mae: 0.0058\n",
            "Epoch 54/100\n",
            "14/14 [==============================] - 0s 19ms/step - loss: 1.5245e-04 - mae: 0.0083 - val_loss: 4.7548e-05 - val_mae: 0.0056\n",
            "Epoch 55/100\n",
            "14/14 [==============================] - 0s 20ms/step - loss: 1.2032e-04 - mae: 0.0077 - val_loss: 1.5990e-04 - val_mae: 0.0117\n",
            "Epoch 56/100\n",
            "14/14 [==============================] - 0s 19ms/step - loss: 1.3608e-04 - mae: 0.0086 - val_loss: 6.2148e-04 - val_mae: 0.0244\n",
            "Epoch 57/100\n",
            "14/14 [==============================] - 0s 19ms/step - loss: 1.2429e-04 - mae: 0.0077 - val_loss: 4.5381e-04 - val_mae: 0.0207\n",
            "Epoch 58/100\n",
            "14/14 [==============================] - 0s 19ms/step - loss: 1.4649e-04 - mae: 0.0086 - val_loss: 2.5111e-04 - val_mae: 0.0150\n",
            "Epoch 59/100\n",
            "14/14 [==============================] - 0s 19ms/step - loss: 1.6142e-04 - mae: 0.0091 - val_loss: 5.8238e-05 - val_mae: 0.0065\n",
            "Epoch 60/100\n",
            "14/14 [==============================] - 0s 20ms/step - loss: 1.1750e-04 - mae: 0.0075 - val_loss: 3.0381e-05 - val_mae: 0.0041\n",
            "Epoch 61/100\n",
            "14/14 [==============================] - 0s 22ms/step - loss: 1.2956e-04 - mae: 0.0082 - val_loss: 1.3473e-04 - val_mae: 0.0106\n",
            "Epoch 62/100\n",
            "14/14 [==============================] - 0s 19ms/step - loss: 1.4183e-04 - mae: 0.0087 - val_loss: 4.4317e-05 - val_mae: 0.0054\n",
            "Epoch 63/100\n",
            "14/14 [==============================] - 0s 20ms/step - loss: 1.2989e-04 - mae: 0.0084 - val_loss: 4.6560e-05 - val_mae: 0.0056\n",
            "Epoch 64/100\n",
            "14/14 [==============================] - 0s 20ms/step - loss: 1.3923e-04 - mae: 0.0083 - val_loss: 5.1320e-05 - val_mae: 0.0060\n",
            "Epoch 65/100\n",
            "14/14 [==============================] - 0s 20ms/step - loss: 1.1618e-04 - mae: 0.0076 - val_loss: 2.8787e-04 - val_mae: 0.0162\n",
            "Epoch 66/100\n",
            "14/14 [==============================] - 0s 18ms/step - loss: 1.3315e-04 - mae: 0.0081 - val_loss: 6.3347e-05 - val_mae: 0.0068\n",
            "Epoch 67/100\n",
            "14/14 [==============================] - 0s 18ms/step - loss: 1.2802e-04 - mae: 0.0084 - val_loss: 1.6352e-04 - val_mae: 0.0119\n",
            "Epoch 68/100\n",
            "14/14 [==============================] - 0s 20ms/step - loss: 1.2960e-04 - mae: 0.0085 - val_loss: 3.2776e-05 - val_mae: 0.0042\n",
            "Epoch 69/100\n",
            "14/14 [==============================] - 0s 19ms/step - loss: 1.3085e-04 - mae: 0.0084 - val_loss: 3.0591e-05 - val_mae: 0.0041\n",
            "Epoch 70/100\n",
            "14/14 [==============================] - 0s 19ms/step - loss: 1.1470e-04 - mae: 0.0076 - val_loss: 3.3726e-04 - val_mae: 0.0176\n",
            "Epoch 71/100\n",
            "14/14 [==============================] - 0s 19ms/step - loss: 9.8250e-05 - mae: 0.0069 - val_loss: 2.8996e-04 - val_mae: 0.0162\n",
            "Epoch 72/100\n",
            "14/14 [==============================] - 0s 20ms/step - loss: 1.4040e-04 - mae: 0.0087 - val_loss: 1.3855e-04 - val_mae: 0.0108\n",
            "Epoch 73/100\n",
            "14/14 [==============================] - 0s 21ms/step - loss: 1.1497e-04 - mae: 0.0079 - val_loss: 6.1301e-05 - val_mae: 0.0067\n",
            "Epoch 74/100\n",
            "14/14 [==============================] - 0s 20ms/step - loss: 1.2393e-04 - mae: 0.0080 - val_loss: 1.4500e-04 - val_mae: 0.0111\n",
            "Epoch 75/100\n",
            "14/14 [==============================] - 0s 20ms/step - loss: 1.2147e-04 - mae: 0.0081 - val_loss: 1.5772e-04 - val_mae: 0.0116\n",
            "Epoch 76/100\n",
            "14/14 [==============================] - 0s 20ms/step - loss: 1.0874e-04 - mae: 0.0071 - val_loss: 1.5778e-04 - val_mae: 0.0116\n",
            "Epoch 77/100\n",
            "14/14 [==============================] - 0s 19ms/step - loss: 1.3006e-04 - mae: 0.0085 - val_loss: 6.4273e-05 - val_mae: 0.0069\n",
            "Epoch 78/100\n",
            "14/14 [==============================] - 0s 20ms/step - loss: 1.1691e-04 - mae: 0.0080 - val_loss: 3.2757e-05 - val_mae: 0.0043\n",
            "Epoch 79/100\n",
            "14/14 [==============================] - 0s 21ms/step - loss: 1.2641e-04 - mae: 0.0083 - val_loss: 8.5645e-05 - val_mae: 0.0081\n",
            "Epoch 80/100\n",
            "14/14 [==============================] - 0s 17ms/step - loss: 1.1985e-04 - mae: 0.0078 - val_loss: 2.6520e-05 - val_mae: 0.0037\n",
            "Epoch 81/100\n",
            "14/14 [==============================] - 0s 19ms/step - loss: 1.2467e-04 - mae: 0.0082 - val_loss: 4.4297e-05 - val_mae: 0.0054\n",
            "Epoch 82/100\n",
            "14/14 [==============================] - 0s 18ms/step - loss: 1.2942e-04 - mae: 0.0083 - val_loss: 2.1777e-04 - val_mae: 0.0138\n",
            "Epoch 83/100\n",
            "14/14 [==============================] - 0s 19ms/step - loss: 1.0055e-04 - mae: 0.0071 - val_loss: 2.3475e-04 - val_mae: 0.0144\n",
            "Epoch 84/100\n",
            "14/14 [==============================] - 0s 19ms/step - loss: 1.3324e-04 - mae: 0.0087 - val_loss: 8.9230e-05 - val_mae: 0.0083\n",
            "Epoch 85/100\n",
            "14/14 [==============================] - 0s 19ms/step - loss: 1.2650e-04 - mae: 0.0079 - val_loss: 8.7092e-05 - val_mae: 0.0082\n",
            "Epoch 86/100\n",
            "14/14 [==============================] - 0s 17ms/step - loss: 1.1363e-04 - mae: 0.0079 - val_loss: 2.8036e-05 - val_mae: 0.0040\n",
            "Epoch 87/100\n",
            "14/14 [==============================] - 0s 20ms/step - loss: 1.2464e-04 - mae: 0.0081 - val_loss: 5.4333e-05 - val_mae: 0.0062\n",
            "Epoch 88/100\n",
            "14/14 [==============================] - 0s 19ms/step - loss: 1.2790e-04 - mae: 0.0085 - val_loss: 2.8617e-05 - val_mae: 0.0039\n",
            "Epoch 89/100\n",
            "14/14 [==============================] - 0s 19ms/step - loss: 1.3012e-04 - mae: 0.0084 - val_loss: 5.4515e-05 - val_mae: 0.0063\n",
            "Epoch 90/100\n",
            "14/14 [==============================] - 0s 21ms/step - loss: 9.5789e-05 - mae: 0.0068 - val_loss: 1.2350e-04 - val_mae: 0.0101\n",
            "Epoch 91/100\n",
            "14/14 [==============================] - 0s 19ms/step - loss: 1.3799e-04 - mae: 0.0085 - val_loss: 4.8930e-05 - val_mae: 0.0057\n",
            "Epoch 92/100\n",
            "14/14 [==============================] - 0s 20ms/step - loss: 1.0734e-04 - mae: 0.0077 - val_loss: 2.8512e-05 - val_mae: 0.0039\n",
            "Epoch 93/100\n",
            "14/14 [==============================] - 0s 19ms/step - loss: 1.1888e-04 - mae: 0.0077 - val_loss: 2.7524e-05 - val_mae: 0.0038\n",
            "Epoch 94/100\n",
            "14/14 [==============================] - 0s 20ms/step - loss: 1.1007e-04 - mae: 0.0079 - val_loss: 8.4797e-05 - val_mae: 0.0081\n",
            "Epoch 95/100\n",
            "14/14 [==============================] - 0s 19ms/step - loss: 1.2508e-04 - mae: 0.0081 - val_loss: 1.4394e-04 - val_mae: 0.0111\n",
            "Epoch 96/100\n",
            "14/14 [==============================] - 0s 19ms/step - loss: 1.1982e-04 - mae: 0.0078 - val_loss: 5.2381e-05 - val_mae: 0.0061\n",
            "Epoch 97/100\n",
            "14/14 [==============================] - 0s 20ms/step - loss: 1.2900e-04 - mae: 0.0081 - val_loss: 8.0946e-05 - val_mae: 0.0079\n",
            "Epoch 98/100\n",
            "14/14 [==============================] - 0s 19ms/step - loss: 1.1093e-04 - mae: 0.0075 - val_loss: 1.0158e-04 - val_mae: 0.0090\n",
            "Epoch 99/100\n",
            "14/14 [==============================] - 0s 18ms/step - loss: 1.2504e-04 - mae: 0.0084 - val_loss: 3.1213e-05 - val_mae: 0.0042\n",
            "Epoch 100/100\n",
            "14/14 [==============================] - 0s 20ms/step - loss: 1.1228e-04 - mae: 0.0076 - val_loss: 6.5302e-05 - val_mae: 0.0070\n"
          ]
        },
        {
          "output_type": "execute_result",
          "data": {
            "text/plain": [
              "<keras.callbacks.History at 0x7fa4701d07d0>"
            ]
          },
          "metadata": {},
          "execution_count": 17
        }
      ]
    },
    {
      "cell_type": "markdown",
      "metadata": {
        "id": "PQazcuL1c9QZ"
      },
      "source": [
        "**is it overtrained? lets run again with 50 epochs**"
      ]
    },
    {
      "cell_type": "code",
      "metadata": {
        "id": "FvK2f7nXW3rH",
        "outputId": "fdb0e13b-6f9e-49d2-b8da-727153391bb4",
        "colab": {
          "base_uri": "https://localhost:8080/"
        }
      },
      "source": [
        "model.fit(\n",
        "    trainX,\n",
        "    trainY,\n",
        "    batch_size=128,\n",
        "    epochs=50,\n",
        "    validation_split=0.05)"
      ],
      "execution_count": 18,
      "outputs": [
        {
          "output_type": "stream",
          "name": "stdout",
          "text": [
            "Epoch 1/50\n",
            "14/14 [==============================] - 0s 28ms/step - loss: 1.1113e-04 - mae: 0.0077 - val_loss: 3.3918e-05 - val_mae: 0.0045\n",
            "Epoch 2/50\n",
            "14/14 [==============================] - 0s 19ms/step - loss: 1.4274e-04 - mae: 0.0084 - val_loss: 1.1403e-04 - val_mae: 0.0096\n",
            "Epoch 3/50\n",
            "14/14 [==============================] - 0s 19ms/step - loss: 1.2346e-04 - mae: 0.0077 - val_loss: 1.2829e-04 - val_mae: 0.0104\n",
            "Epoch 4/50\n",
            "14/14 [==============================] - 0s 18ms/step - loss: 1.1873e-04 - mae: 0.0077 - val_loss: 8.5220e-05 - val_mae: 0.0082\n",
            "Epoch 5/50\n",
            "14/14 [==============================] - 0s 19ms/step - loss: 1.0990e-04 - mae: 0.0075 - val_loss: 2.2774e-04 - val_mae: 0.0143\n",
            "Epoch 6/50\n",
            "14/14 [==============================] - 0s 19ms/step - loss: 1.2420e-04 - mae: 0.0080 - val_loss: 5.0044e-05 - val_mae: 0.0058\n",
            "Epoch 7/50\n",
            "14/14 [==============================] - 0s 19ms/step - loss: 1.0951e-04 - mae: 0.0077 - val_loss: 3.0390e-05 - val_mae: 0.0041\n",
            "Epoch 8/50\n",
            "14/14 [==============================] - 0s 19ms/step - loss: 1.1758e-04 - mae: 0.0080 - val_loss: 2.7226e-05 - val_mae: 0.0039\n",
            "Epoch 9/50\n",
            "14/14 [==============================] - 0s 18ms/step - loss: 1.1891e-04 - mae: 0.0075 - val_loss: 5.1649e-05 - val_mae: 0.0061\n",
            "Epoch 10/50\n",
            "14/14 [==============================] - 0s 19ms/step - loss: 1.1397e-04 - mae: 0.0079 - val_loss: 1.5201e-04 - val_mae: 0.0114\n",
            "Epoch 11/50\n",
            "14/14 [==============================] - 0s 18ms/step - loss: 1.0625e-04 - mae: 0.0076 - val_loss: 8.7039e-05 - val_mae: 0.0083\n",
            "Epoch 12/50\n",
            "14/14 [==============================] - 0s 20ms/step - loss: 1.1309e-04 - mae: 0.0077 - val_loss: 3.7967e-05 - val_mae: 0.0048\n",
            "Epoch 13/50\n",
            "14/14 [==============================] - 0s 19ms/step - loss: 1.0959e-04 - mae: 0.0073 - val_loss: 9.9602e-05 - val_mae: 0.0089\n",
            "Epoch 14/50\n",
            "14/14 [==============================] - 0s 20ms/step - loss: 1.3241e-04 - mae: 0.0084 - val_loss: 2.6354e-05 - val_mae: 0.0037\n",
            "Epoch 15/50\n",
            "14/14 [==============================] - 0s 19ms/step - loss: 1.0729e-04 - mae: 0.0074 - val_loss: 1.1112e-04 - val_mae: 0.0095\n",
            "Epoch 16/50\n",
            "14/14 [==============================] - 0s 19ms/step - loss: 1.0837e-04 - mae: 0.0075 - val_loss: 1.9451e-04 - val_mae: 0.0131\n",
            "Epoch 17/50\n",
            "14/14 [==============================] - 0s 19ms/step - loss: 1.0257e-04 - mae: 0.0073 - val_loss: 9.1343e-05 - val_mae: 0.0085\n",
            "Epoch 18/50\n",
            "14/14 [==============================] - 0s 20ms/step - loss: 1.2281e-04 - mae: 0.0080 - val_loss: 1.7398e-04 - val_mae: 0.0123\n",
            "Epoch 19/50\n",
            "14/14 [==============================] - 0s 19ms/step - loss: 1.2490e-04 - mae: 0.0084 - val_loss: 5.0798e-05 - val_mae: 0.0060\n",
            "Epoch 20/50\n",
            "14/14 [==============================] - 0s 19ms/step - loss: 1.0801e-04 - mae: 0.0074 - val_loss: 4.0294e-05 - val_mae: 0.0050\n",
            "Epoch 21/50\n",
            "14/14 [==============================] - 0s 18ms/step - loss: 1.0382e-04 - mae: 0.0073 - val_loss: 9.5251e-05 - val_mae: 0.0087\n",
            "Epoch 22/50\n",
            "14/14 [==============================] - 0s 20ms/step - loss: 1.0948e-04 - mae: 0.0076 - val_loss: 1.7401e-04 - val_mae: 0.0122\n",
            "Epoch 23/50\n",
            "14/14 [==============================] - 0s 19ms/step - loss: 1.1569e-04 - mae: 0.0078 - val_loss: 4.6412e-05 - val_mae: 0.0056\n",
            "Epoch 24/50\n",
            "14/14 [==============================] - 0s 18ms/step - loss: 1.1275e-04 - mae: 0.0079 - val_loss: 1.0045e-04 - val_mae: 0.0090\n",
            "Epoch 25/50\n",
            "14/14 [==============================] - 0s 19ms/step - loss: 9.3898e-05 - mae: 0.0070 - val_loss: 2.4503e-04 - val_mae: 0.0148\n",
            "Epoch 26/50\n",
            "14/14 [==============================] - 0s 18ms/step - loss: 1.2295e-04 - mae: 0.0081 - val_loss: 4.0316e-04 - val_mae: 0.0194\n",
            "Epoch 27/50\n",
            "14/14 [==============================] - 0s 19ms/step - loss: 1.1481e-04 - mae: 0.0076 - val_loss: 4.6262e-05 - val_mae: 0.0056\n",
            "Epoch 28/50\n",
            "14/14 [==============================] - 0s 19ms/step - loss: 1.1572e-04 - mae: 0.0080 - val_loss: 2.9275e-04 - val_mae: 0.0163\n",
            "Epoch 29/50\n",
            "14/14 [==============================] - 0s 19ms/step - loss: 1.1406e-04 - mae: 0.0076 - val_loss: 1.0472e-04 - val_mae: 0.0093\n",
            "Epoch 30/50\n",
            "14/14 [==============================] - 0s 18ms/step - loss: 1.1786e-04 - mae: 0.0080 - val_loss: 3.8929e-05 - val_mae: 0.0050\n",
            "Epoch 31/50\n",
            "14/14 [==============================] - 0s 20ms/step - loss: 1.0947e-04 - mae: 0.0075 - val_loss: 1.9217e-04 - val_mae: 0.0130\n",
            "Epoch 32/50\n",
            "14/14 [==============================] - 0s 22ms/step - loss: 9.4476e-05 - mae: 0.0069 - val_loss: 7.8976e-05 - val_mae: 0.0077\n",
            "Epoch 33/50\n",
            "14/14 [==============================] - 0s 20ms/step - loss: 1.1151e-04 - mae: 0.0076 - val_loss: 3.7576e-04 - val_mae: 0.0187\n",
            "Epoch 34/50\n",
            "14/14 [==============================] - 0s 20ms/step - loss: 1.0338e-04 - mae: 0.0075 - val_loss: 6.8882e-05 - val_mae: 0.0071\n",
            "Epoch 35/50\n",
            "14/14 [==============================] - 0s 21ms/step - loss: 1.1358e-04 - mae: 0.0080 - val_loss: 7.7705e-05 - val_mae: 0.0076\n",
            "Epoch 36/50\n",
            "14/14 [==============================] - 0s 20ms/step - loss: 1.0438e-04 - mae: 0.0073 - val_loss: 2.5445e-04 - val_mae: 0.0151\n",
            "Epoch 37/50\n",
            "14/14 [==============================] - 0s 18ms/step - loss: 1.1753e-04 - mae: 0.0079 - val_loss: 3.3862e-05 - val_mae: 0.0044\n",
            "Epoch 38/50\n",
            "14/14 [==============================] - 0s 18ms/step - loss: 1.2342e-04 - mae: 0.0083 - val_loss: 4.2313e-05 - val_mae: 0.0053\n",
            "Epoch 39/50\n",
            "14/14 [==============================] - 0s 18ms/step - loss: 1.1476e-04 - mae: 0.0076 - val_loss: 2.7908e-05 - val_mae: 0.0038\n",
            "Epoch 40/50\n",
            "14/14 [==============================] - 0s 20ms/step - loss: 8.1687e-05 - mae: 0.0062 - val_loss: 2.9530e-05 - val_mae: 0.0040\n",
            "Epoch 41/50\n",
            "14/14 [==============================] - 0s 18ms/step - loss: 1.2191e-04 - mae: 0.0081 - val_loss: 8.1510e-05 - val_mae: 0.0080\n",
            "Epoch 42/50\n",
            "14/14 [==============================] - 0s 20ms/step - loss: 1.2118e-04 - mae: 0.0081 - val_loss: 1.0769e-04 - val_mae: 0.0094\n",
            "Epoch 43/50\n",
            "14/14 [==============================] - 0s 19ms/step - loss: 1.0532e-04 - mae: 0.0076 - val_loss: 9.1222e-05 - val_mae: 0.0086\n",
            "Epoch 44/50\n",
            "14/14 [==============================] - 0s 18ms/step - loss: 1.0622e-04 - mae: 0.0075 - val_loss: 1.2978e-04 - val_mae: 0.0105\n",
            "Epoch 45/50\n",
            "14/14 [==============================] - 0s 18ms/step - loss: 1.0071e-04 - mae: 0.0072 - val_loss: 5.8734e-05 - val_mae: 0.0064\n",
            "Epoch 46/50\n",
            "14/14 [==============================] - 0s 18ms/step - loss: 9.6076e-05 - mae: 0.0068 - val_loss: 4.3932e-05 - val_mae: 0.0055\n",
            "Epoch 47/50\n",
            "14/14 [==============================] - 0s 22ms/step - loss: 1.1731e-04 - mae: 0.0079 - val_loss: 1.2278e-04 - val_mae: 0.0101\n",
            "Epoch 48/50\n",
            "14/14 [==============================] - 0s 19ms/step - loss: 1.1467e-04 - mae: 0.0078 - val_loss: 4.6088e-05 - val_mae: 0.0056\n",
            "Epoch 49/50\n",
            "14/14 [==============================] - 0s 20ms/step - loss: 8.3007e-05 - mae: 0.0061 - val_loss: 1.6142e-04 - val_mae: 0.0118\n",
            "Epoch 50/50\n",
            "14/14 [==============================] - 0s 19ms/step - loss: 1.2506e-04 - mae: 0.0081 - val_loss: 9.3811e-05 - val_mae: 0.0087\n"
          ]
        },
        {
          "output_type": "execute_result",
          "data": {
            "text/plain": [
              "<keras.callbacks.History at 0x7fa3e944b3d0>"
            ]
          },
          "metadata": {},
          "execution_count": 18
        }
      ]
    },
    {
      "cell_type": "markdown",
      "metadata": {
        "id": "PNNUkkpIdCfK"
      },
      "source": [
        "**Final Predictions**"
      ]
    },
    {
      "cell_type": "code",
      "metadata": {
        "id": "27AkkDUDXLkP",
        "outputId": "10213cbb-d719-467a-e625-52240d23d6b8",
        "colab": {
          "base_uri": "https://localhost:8080/",
          "height": 279
        }
      },
      "source": [
        "import matplotlib.pyplot as plt\n",
        "predicted_stateful = model.predict(testX)\n",
        "plt.plot(testY, color = 'red',label = 'Actual Closing Prices')\n",
        "plt.plot(predicted_stateful.flatten(), color = 'blue', label  = 'Predicted closing Prices')\n",
        "plt.xlabel('Days')\n",
        "plt.ylabel('Normalised Prices')\n",
        "plt.legend(loc='best')\n",
        "plt.show()"
      ],
      "execution_count": 19,
      "outputs": [
        {
          "output_type": "display_data",
          "data": {
            "text/plain": [
              "<Figure size 432x288 with 1 Axes>"
            ],
            "image/png": "[encoded data removed]"
          },
          "metadata": {
            "needs_background": "light"
          }
        }
      ]
    },
    {
      "cell_type": "markdown",
      "metadata": {
        "id": "nc-mIZspkToH"
      },
      "source": [
        "**So LSTM  works great to predict Closing Prices when we normalize the prices and predict the stock Price movement.**"
      ]
    },
    {
      "cell_type": "code",
      "metadata": {
        "id": "6Im_DUAVIr3K",
        "outputId": "f6c349ea-74cc-410f-84fb-a7ca27a225e1",
        "colab": {
          "base_uri": "https://localhost:8080/"
        }
      },
      "source": [
        "mae = model.evaluate(trainX,\n",
        "    trainY,\n",
        "    batch_size=128,verbose=1)"
      ],
      "execution_count": 20,
      "outputs": [
        {
          "output_type": "stream",
          "name": "stdout",
          "text": [
            "15/15 [==============================] - 0s 3ms/step - loss: 4.0893e-05 - mae: 0.0054\n"
          ]
        }
      ]
    },
    {
      "cell_type": "markdown",
      "metadata": {
        "id": "SbLZwCUodL0R"
      },
      "source": [
        "**Seems like using LSTM to predict stock price movement gives much better prediction resullts!!**\n"
      ]
    },
    {
      "cell_type": "markdown",
      "source": [
        "### CONCLUSION\n",
        "1. OVERFITTING DUE TO LIMITED DATASIZE\n",
        "\n",
        "2. EXCESSIVE FEATURE EXTRACTION\n",
        "\n",
        "3. HAVING WRONG PREDICTIONS DUE TO WRONG TYPE OF NORMALIZATION\n",
        "\n",
        "4. NO HYPERPARAMTER TUNING"
      ],
      "metadata": {
        "id": "1KL8z9OtAnMl"
      }
    }
  ]
}